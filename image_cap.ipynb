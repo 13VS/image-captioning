{
  "nbformat": 4,
  "nbformat_minor": 0,
  "metadata": {
    "colab": {
      "name": "image_cap.ipynb",
      "version": "0.3.2",
      "provenance": [],
      "collapsed_sections": [],
      "include_colab_link": true
    },
    "kernelspec": {
      "name": "python3",
      "display_name": "Python 3"
    },
    "accelerator": "GPU"
  },
  "cells": [
    {
      "cell_type": "markdown",
      "metadata": {
        "id": "view-in-github",
        "colab_type": "text"
      },
      "source": [
        "<a href=\"https://colab.research.google.com/github/visu27/image-captioning/blob/master/image_cap.ipynb\" target=\"_parent\"><img src=\"https://colab.research.google.com/assets/colab-badge.svg\" alt=\"Open In Colab\"/></a>"
      ]
    },
    {
      "metadata": {
        "id": "K1bdq33gTq4o",
        "colab_type": "code",
        "outputId": "a26a3ede-2bce-4b1b-e549-59b70b5a2132",
        "colab": {
          "base_uri": "https://localhost:8080/",
          "height": 374
        }
      },
      "cell_type": "code",
      "source": [
        "!apt-get install -y -qq software-properties-common python-software-properties module-init-tools\n",
        "!add-apt-repository -y ppa:alessandro-strada/ppa 2>&1 > /dev/null\n",
        "!apt-get update -qq 2>&1 > /dev/null\n",
        "!apt-get -y install -qq google-drive-ocamlfuse fuse\n",
        "from google.colab import auth\n",
        "auth.authenticate_user()\n",
        "from oauth2client.client import GoogleCredentials\n",
        "creds = GoogleCredentials.get_application_default()\n",
        "import getpass\n",
        "!google-drive-ocamlfuse -headless -id={creds.client_id} -secret={creds.client_secret} < /dev/null 2>&1 | grep URL\n",
        "vcode = getpass.getpass()\n",
        "!echo {vcode} | google-drive-ocamlfuse -headless -id={creds.client_id} -secret={creds.client_secret}\n"
      ],
      "execution_count": 1,
      "outputs": [
        {
          "output_type": "stream",
          "text": [
            "E: Package 'python-software-properties' has no installation candidate\n",
            "Selecting previously unselected package libfuse2:amd64.\n",
            "(Reading database ... 22280 files and directories currently installed.)\n",
            "Preparing to unpack .../libfuse2_2.9.7-1ubuntu1_amd64.deb ...\n",
            "Unpacking libfuse2:amd64 (2.9.7-1ubuntu1) ...\n",
            "Selecting previously unselected package fuse.\n",
            "Preparing to unpack .../fuse_2.9.7-1ubuntu1_amd64.deb ...\n",
            "Unpacking fuse (2.9.7-1ubuntu1) ...\n",
            "Selecting previously unselected package google-drive-ocamlfuse.\n",
            "Preparing to unpack .../google-drive-ocamlfuse_0.7.0-0ubuntu1~ubuntu18.04.1_amd64.deb ...\n",
            "Unpacking google-drive-ocamlfuse (0.7.0-0ubuntu1~ubuntu18.04.1) ...\n",
            "Setting up libfuse2:amd64 (2.9.7-1ubuntu1) ...\n",
            "Processing triggers for libc-bin (2.27-3ubuntu1) ...\n",
            "Setting up fuse (2.9.7-1ubuntu1) ...\n",
            "Setting up google-drive-ocamlfuse (0.7.0-0ubuntu1~ubuntu18.04.1) ...\n",
            "Please, open the following URL in a web browser: https://accounts.google.com/o/oauth2/auth?client_id=32555940559.apps.googleusercontent.com&redirect_uri=urn%3Aietf%3Awg%3Aoauth%3A2.0%3Aoob&scope=https%3A%2F%2Fwww.googleapis.com%2Fauth%2Fdrive&response_type=code&access_type=offline&approval_prompt=force\n",
            "··········\n",
            "Please, open the following URL in a web browser: https://accounts.google.com/o/oauth2/auth?client_id=32555940559.apps.googleusercontent.com&redirect_uri=urn%3Aietf%3Awg%3Aoauth%3A2.0%3Aoob&scope=https%3A%2F%2Fwww.googleapis.com%2Fauth%2Fdrive&response_type=code&access_type=offline&approval_prompt=force\n",
            "Please enter the verification code: Access token retrieved correctly.\n"
          ],
          "name": "stdout"
        }
      ]
    },
    {
      "metadata": {
        "id": "4MUM1yjrMUkM",
        "colab_type": "code",
        "outputId": "21bc1ada-877c-4098-cc71-47d5ac99dd3b",
        "colab": {
          "base_uri": "https://localhost:8080/",
          "height": 34
        }
      },
      "cell_type": "code",
      "source": [
        "!mkdir -p drive\n",
        "!google-drive-ocamlfuse drive\n",
        "!ls"
      ],
      "execution_count": 2,
      "outputs": [
        {
          "output_type": "stream",
          "text": [
            "adc.json  drive  sample_data\n"
          ],
          "name": "stdout"
        }
      ]
    },
    {
      "metadata": {
        "id": "cRdYE_pYPAZ0",
        "colab_type": "code",
        "outputId": "df342c6f-85ca-4590-84b5-489e6e8ae65e",
        "colab": {
          "base_uri": "https://localhost:8080/",
          "height": 34
        }
      },
      "cell_type": "code",
      "source": [
        "import numpy as np\n",
        "import os,pickle\n",
        "from keras.applications.vgg16 import VGG16\n",
        "from keras.preprocessing.image import load_img,img_to_array\n",
        "from keras.applications.vgg16 import preprocess_input\n",
        "from keras.models import Model\n",
        "from keras.preprocessing.text import Tokenizer\n",
        "from keras.preprocessing.sequence import pad_sequences\n",
        "from keras.utils import plot_model, to_categorical\n",
        "from keras.layers import Input,Dense\n",
        "from keras.layers import Input, Embedding, Dense, LSTM, Dropout, add,GRU,Reshape,Lambda,BatchNormalization\n",
        "from keras.models import load_model\n",
        "from matplotlib.pyplot import imread, imshow\n",
        "%matplotlib inline\n",
        "import tensorflow as tf\n",
        "from math import ceil\n",
        "from  keras import backend as K\n",
        "from keras.callbacks import ModelCheckpoint\n",
        "from keras.models import load_model\n",
        "from nltk.translate.bleu_score import corpus_bleu,sentence_bleu\n",
        "from time import time\n"
      ],
      "execution_count": 3,
      "outputs": [
        {
          "output_type": "stream",
          "text": [
            "Using TensorFlow backend.\n"
          ],
          "name": "stderr"
        }
      ]
    },
    {
      "metadata": {
        "id": "socafq1vP-sc",
        "colab_type": "code",
        "colab": {}
      },
      "cell_type": "code",
      "source": [
        "def extract_features(directory):\n",
        "\tmodel = VGG16()\n",
        "\tmodel.layers.pop()\n",
        "\tmodel = Model(inputs=model.inputs, outputs=model.layers[-1].output)\n",
        "\tfeatures = dict()\n",
        "\tfor name in os.listdir(directory):\n",
        "\t\tfilename = directory + '/' + name\n",
        "\t\timage = load_img(filename, target_size=(224, 224))\n",
        "\t\timage = img_to_array(image)\n",
        "\t\timage = image.reshape((1, image.shape[0], image.shape[1], image.shape[2]))\n",
        "\t\timage = preprocess_input(image)\n",
        "\t\tfeature = model.predict(image, verbose=0)\n",
        "\t\timage_id = name.split('.')[0]\n",
        "\t\tfeatures[image_id] = feature\n",
        "\treturn features\n",
        "\n",
        "directory = 'drive/img_data/data/Flicker8k_Dataset'\n",
        "features = extract_features(directory)\n",
        "print('Extracted Features: %d' % len(features))\n",
        "pickle.dump(features, open('features.pkl', 'wb'))"
      ],
      "execution_count": 0,
      "outputs": []
    },
    {
      "metadata": {
        "id": "WGOy1xUiv0Iu",
        "colab_type": "code",
        "colab": {}
      },
      "cell_type": "code",
      "source": [
        "!pip install -U -q PyDrive\n",
        "from pydrive.auth import GoogleAuth\n",
        "from pydrive.drive import GoogleDrive\n",
        "from google.colab import auth\n",
        "from oauth2client.client import GoogleCredentials\n",
        "auth.authenticate_user()\n",
        "gauth = GoogleAuth()\n",
        "gauth.credentials = GoogleCredentials.get_application_default()\n",
        "drive = GoogleDrive(gauth) \n",
        "file = drive.CreateFile({'title': 'features.pkl'})\n",
        "file.SetContentFile('features.pkl')\n",
        "file.Upload()"
      ],
      "execution_count": 0,
      "outputs": []
    },
    {
      "metadata": {
        "id": "7qpTgfRmzOoC",
        "colab_type": "code",
        "outputId": "700b66bc-5932-4bb0-a308-ed5d71b490eb",
        "colab": {
          "base_uri": "https://localhost:8080/",
          "height": 34
        }
      },
      "cell_type": "code",
      "source": [
        "train_filename= 'drive/img_data/text/Flickr_8k.trainImages.txt'\n",
        "val_filename= 'drive/img_data/text/Flickr_8k.devImages.txt'\n",
        "image_filename='drive/img_data/features.pkl'\n",
        "\n",
        "def load_descriptions(filename): \n",
        "    map_to_text= {}\n",
        "    data= open(filename,'r').read()\n",
        "    for line in data.split('\\n'):\n",
        "        tokens = line.split()\n",
        "        if(len(tokens)<2):\n",
        "            continue\n",
        "        image_id , image_desc = tokens[0], tokens[1:]\n",
        "        desc = [t.lower() for t in image_desc if(len(t)>1) and t.isalpha()]\n",
        "        image_desc = 'startseq '+' '.join(desc)+' endseq'\n",
        "        image_id= image_id.split('.')[0]\n",
        "        if image_id not in map_to_text:\n",
        "            map_to_text[image_id]=list()\n",
        "        map_to_text[image_id].append(image_desc)\n",
        "    return map_to_text\n",
        "  \n",
        "map_to_text= load_descriptions('drive/img_data/text/Flickr8k.token.txt')\n",
        "print(len(map_to_text))"
      ],
      "execution_count": 5,
      "outputs": [
        {
          "output_type": "stream",
          "text": [
            "8092\n"
          ],
          "name": "stdout"
        }
      ]
    },
    {
      "metadata": {
        "id": "Rg8n7ZHHrtNP",
        "colab_type": "code",
        "outputId": "a91bf1f1-29a6-42b7-fdf3-fac1fc49883e",
        "colab": {
          "base_uri": "https://localhost:8080/",
          "height": 34
        }
      },
      "cell_type": "code",
      "source": [
        "def extract_vocab(map_to_text):\n",
        "    vocab=set()\n",
        "    for key,values in map_to_text.items():\n",
        "        for value in values:\n",
        "            vocab.update(value.split())\n",
        "    return vocab\n",
        "  \n",
        "vocab= extract_vocab(map_to_text)        \n",
        "print(len(vocab))"
      ],
      "execution_count": 6,
      "outputs": [
        {
          "output_type": "stream",
          "text": [
            "8359\n"
          ],
          "name": "stdout"
        }
      ]
    },
    {
      "metadata": {
        "id": "2dsqmJw1tJKi",
        "colab_type": "code",
        "outputId": "b164b622-3b77-4dda-d505-2bff12b50da8",
        "colab": {
          "base_uri": "https://localhost:8080/",
          "height": 34
        }
      },
      "cell_type": "code",
      "source": [
        "def load_ids(filename):\n",
        "    data= open(filename,'r')\n",
        "    ids=[]\n",
        "    for image in data.readlines():\n",
        "        ids.append(image.split('.')[0])\n",
        "    return ids\n",
        "  \n",
        "def load_descriptions(map_to_text,ids): \n",
        "    data= {}\n",
        "    for key,value in map_to_text.items():\n",
        "        if key in ids:\n",
        "            data[key]=value\n",
        "    return data\n",
        "  \n",
        "def load_image_features(filename,ids):\n",
        "    features_dict= pickle.load(open(filename,'rb'))\n",
        "    data={}\n",
        "    for key,value in features_dict.items():\n",
        "        if key in ids:\n",
        "            data[key]=value\n",
        "    return data\n",
        "  \n",
        "def  create_tokenizer(descriptions):\n",
        "    data=[]\n",
        "    for key,values in descriptions.items():\n",
        "        [data.append(value) for value in values]\n",
        "    token=Tokenizer()\n",
        "    token.fit_on_texts(data)\n",
        "    return token\n",
        "  \n",
        "train_ids = load_ids(train_filename)\n",
        "val_ids = load_ids(val_filename)\n",
        "train_desc = load_descriptions(map_to_text,train_ids)\n",
        "val_desc = load_descriptions(map_to_text,val_ids)\n",
        "train_img= load_image_features(image_filename,train_ids)\n",
        "val_img= load_image_features(image_filename,val_ids)\n",
        "tokenizer= create_tokenizer(train_desc)\n",
        "vocab_size=len(tokenizer.word_index)+1\n",
        "print(vocab_size)\n",
        "\n",
        "def max_length(descriptions):\n",
        "    data=[]\n",
        "    for key,values in descriptions.items():\n",
        "        [data.append(value) for value in values]\n",
        "    return max(len(d.split()) for d in data)\n",
        "  \n",
        "max_len = max(max_length(train_desc),max_length(val_desc))"
      ],
      "execution_count": 7,
      "outputs": [
        {
          "output_type": "stream",
          "text": [
            "7266\n"
          ],
          "name": "stdout"
        }
      ]
    },
    {
      "metadata": {
        "id": "XUPiISszuThz",
        "colab_type": "code",
        "outputId": "10ea2b09-8aef-43db-efc3-48e75f4547ed",
        "colab": {
          "base_uri": "https://localhost:8080/",
          "height": 1083
        }
      },
      "cell_type": "code",
      "source": [
        "\n",
        "def create_sequences(tokenizer, max_length, desc_list, photo):\n",
        "\tX1, X2, y = list(), list(), list()\n",
        "\tfor desc in desc_list:\n",
        "\t\tseq = tokenizer.texts_to_sequences([desc])[0]\n",
        "\t\tfor i in range(1, len(seq)):\n",
        "\t\t\tin_seq, out_seq = seq[:i], seq[i]\n",
        "\t\t\tin_seq = pad_sequences([in_seq], maxlen=max_length)[0]\n",
        "\t\t\tout_seq = to_categorical([out_seq], num_classes=vocab_size)[0]\n",
        "\t\t\tX1.append(photo)\n",
        "\t\t\tX2.append(in_seq)\n",
        "\t\t\ty.append(out_seq)\n",
        "\treturn np.array(X1), np.array(X2), np.array(y)\n",
        "\n",
        "\n",
        "def gen_model(vocab_size, seq_length):\n",
        "    inputs1 = Input(shape=(4096,))\n",
        "    fe1 = Dense(256, activation='relu')(inputs1)\n",
        "    fe2 = Dropout(0.5)(fe1)\n",
        "    inputs2 = Input(shape=(seq_length,))\n",
        "    se1 = Embedding(vocab_size, 256, mask_zero=True)(inputs2)\n",
        "    se2 = Dropout(0.5)(se1)\n",
        "    se3 = LSTM(256)(se2)\n",
        "    decoder1 = add([fe2, se3])\n",
        "    decoder2 = Dense(256, activation='relu')(decoder1)\n",
        "    outputs = Dense(vocab_size, activation='softmax')(decoder2)\n",
        "    model = Model(inputs=[inputs1, inputs2], outputs=outputs)\n",
        "    model.compile(loss='categorical_crossentropy', optimizer='adam')\n",
        "    return model\n",
        "\n",
        "def data_generator(descriptions, photos, tokenizer, max_length):\n",
        "    while 1:\n",
        "      for key, desc_list in descriptions.items():\n",
        "        photo = photos[key][0]\n",
        "        in_img, in_seq, out_word = create_sequences(tokenizer, max_length, desc_list, photo)\n",
        "        yield [[in_img, in_seq], out_word]\n",
        "\n",
        "model=gen_model(vocab_size,max_len)\n",
        "filepath = 'drive/img_data/final_lstmimagecaption3layers_img_hidd-ep{epoch:03d}-loss{loss:.3f}-val_loss{val_loss:.3f}.h5'\n",
        "checkpoint = ModelCheckpoint(filepath, monitor='val_loss', save_best_only=True, mode='min')\n",
        "epochs = 20\n",
        "steps = len(train_desc)\n",
        "val_steps = len(val_desc)\n",
        "for i in range(epochs):\n",
        "    generator = data_generator(train_desc, train_img, tokenizer, max_len)\n",
        "    val_generator= data_generator(val_desc,val_img,tokenizer,max_len)\n",
        "    model.fit_generator(generator, epochs=1, steps_per_epoch=steps,callbacks=[checkpoint], verbose=1,validation_data=val_generator, validation_steps=val_steps)\n",
        "    print(str(i+1 )+' epochs Finished'+' out of '+ str(epochs) )\n",
        "    model.save('model_' + str(i) + '.h5')\n",
        "model.save('drive/img_data/final_lstm3_imglstm_img_hidd_final.h5')"
      ],
      "execution_count": 8,
      "outputs": [
        {
          "output_type": "stream",
          "text": [
            "Epoch 1/1\n",
            "6000/6000 [==============================] - 811s 135ms/step - loss: 4.7197 - val_loss: 4.2436\n",
            "1 epochs Finished out of 20\n",
            "Epoch 1/1\n",
            "6000/6000 [==============================] - 813s 135ms/step - loss: 4.0317 - val_loss: 4.0397\n",
            "2 epochs Finished out of 20\n",
            "Epoch 1/1\n",
            "6000/6000 [==============================] - 809s 135ms/step - loss: 3.7889 - val_loss: 3.9790\n",
            "3 epochs Finished out of 20\n",
            "Epoch 1/1\n",
            "6000/6000 [==============================] - 800s 133ms/step - loss: 3.6420 - val_loss: 3.9582\n",
            "4 epochs Finished out of 20\n",
            "Epoch 1/1\n",
            "6000/6000 [==============================] - 797s 133ms/step - loss: 3.5413 - val_loss: 3.9557\n",
            "5 epochs Finished out of 20\n",
            "Epoch 1/1\n",
            "6000/6000 [==============================] - 810s 135ms/step - loss: 3.4672 - val_loss: 3.9588\n",
            "6 epochs Finished out of 20\n",
            "Epoch 1/1\n",
            "6000/6000 [==============================] - 813s 136ms/step - loss: 3.4116 - val_loss: 3.9614\n",
            "7 epochs Finished out of 20\n",
            "Epoch 1/1\n",
            "6000/6000 [==============================] - 810s 135ms/step - loss: 3.3632 - val_loss: 3.9857\n",
            "8 epochs Finished out of 20\n",
            "Epoch 1/1\n",
            "6000/6000 [==============================] - 813s 136ms/step - loss: 3.3259 - val_loss: 3.9825\n",
            "9 epochs Finished out of 20\n",
            "Epoch 1/1\n",
            "6000/6000 [==============================] - 812s 135ms/step - loss: 3.2885 - val_loss: 4.0123\n",
            "10 epochs Finished out of 20\n",
            "Epoch 1/1\n",
            "6000/6000 [==============================] - 814s 136ms/step - loss: 3.2610 - val_loss: 4.0506\n",
            "11 epochs Finished out of 20\n",
            "Epoch 1/1\n",
            "6000/6000 [==============================] - 817s 136ms/step - loss: 3.2423 - val_loss: 4.0397\n",
            "12 epochs Finished out of 20\n",
            "Epoch 1/1\n",
            "6000/6000 [==============================] - 808s 135ms/step - loss: 3.2210 - val_loss: 4.0637\n",
            "13 epochs Finished out of 20\n",
            "Epoch 1/1\n",
            "6000/6000 [==============================] - 810s 135ms/step - loss: 3.2032 - val_loss: 4.0709\n",
            "14 epochs Finished out of 20\n",
            "Epoch 1/1\n",
            "6000/6000 [==============================] - 811s 135ms/step - loss: 3.1862 - val_loss: 4.0976\n",
            "15 epochs Finished out of 20\n",
            "Epoch 1/1\n",
            "6000/6000 [==============================] - 814s 136ms/step - loss: 3.1708 - val_loss: 4.0847\n",
            "16 epochs Finished out of 20\n",
            "Epoch 1/1\n",
            "6000/6000 [==============================] - 812s 135ms/step - loss: 3.1566 - val_loss: 4.1059\n",
            "17 epochs Finished out of 20\n",
            "Epoch 1/1\n",
            "6000/6000 [==============================] - 812s 135ms/step - loss: 3.1460 - val_loss: 4.1236\n",
            "18 epochs Finished out of 20\n",
            "Epoch 1/1\n",
            "6000/6000 [==============================] - 812s 135ms/step - loss: 3.1364 - val_loss: 4.1356\n",
            "19 epochs Finished out of 20\n",
            "Epoch 1/1\n",
            "6000/6000 [==============================] - 805s 134ms/step - loss: 3.1291 - val_loss: 4.1426\n",
            "20 epochs Finished out of 20\n"
          ],
          "name": "stdout"
        }
      ]
    },
    {
      "metadata": {
        "id": "2T_vCeTogc6T",
        "colab_type": "code",
        "outputId": "4ede91b7-1216-4dc4-9af3-a6bb13a54f9d",
        "colab": {
          "base_uri": "https://localhost:8080/",
          "height": 87
        }
      },
      "cell_type": "code",
      "source": [
        "def word_for_id(integer, tokenizer):\n",
        "    for word, index in tokenizer.word_index.items():\n",
        "        if index == integer:\n",
        "            return word\n",
        "    return None\n",
        "\n",
        "def generate_desc(model, tokenizer, photo, max_length):\n",
        "  in_text = 'startseq'\n",
        "  for i in range(max_length):\n",
        "    sequence = tokenizer.texts_to_sequences([in_text])[0]\n",
        "    sequence = pad_sequences([sequence], maxlen=max_length)\n",
        "    yhat = model.predict([photo,sequence], verbose=0)\n",
        "    yhat = np.argmax(yhat)\n",
        "    word = word_for_id(yhat, tokenizer)\n",
        "    if word is None:\n",
        "      break\n",
        "    in_text += ' ' + word\n",
        "    if word == 'endseq':\n",
        "      break\n",
        "  return in_text\n",
        "\n",
        "def evaluate_model(model, descriptions, photos, tokenizer, max_length):\n",
        "  actual, predicted = list(), list()\n",
        "  for key, desc_list in descriptions.items():\n",
        "    yhat = generate_desc(model, tokenizer, photos[key], max_length)\n",
        "    references = [d.split() for d in desc_list]\n",
        "    actual.append(references)\n",
        "    predicted.append(yhat.split())\n",
        "  print('BLEU-1: %f' % corpus_bleu(actual, predicted, weights=(1.0, 0, 0, 0)))\n",
        "  print('BLEU-2: %f' % corpus_bleu(actual, predicted, weights=(0.5, 0.5, 0, 0)))\n",
        "  print('BLEU-3: %f' % corpus_bleu(actual, predicted, weights=(0.3, 0.3, 0.3, 0)))\n",
        "  print('BLEU-4: %f' % corpus_bleu(actual, predicted, weights=(0.25, 0.25, 0.25, 0.25)))\n",
        "\n",
        "f1='drive/img_data/final_lstm3_imglstm_img_hidd_final.h5'\n",
        "model = load_model(f1)\n",
        "evaluate_model(model, val_desc, val_img, tokenizer, max_len)\n"
      ],
      "execution_count": 17,
      "outputs": [
        {
          "output_type": "stream",
          "text": [
            "BLEU-1: 0.477018\n",
            "BLEU-2: 0.241297\n",
            "BLEU-3: 0.161354\n",
            "BLEU-4: 0.069397\n"
          ],
          "name": "stdout"
        }
      ]
    },
    {
      "metadata": {
        "id": "GSkvgkPYCh3Y",
        "colab_type": "code",
        "colab": {}
      },
      "cell_type": "code",
      "source": [
        "f='drive/img_data/final_lstm3_imglstm_img_hidd_final.h5'\n",
        "model = load_model(f)\n",
        "\n",
        "seq_length=33\n",
        "n_a=512\n",
        "reshapor1=Reshape((1,512))\n",
        "reshapor2=Reshape((1,512))\n",
        "batch_normalize= model.layers[6]\n",
        "dense_image1=model.layers[20]\n",
        "embedding= model.layers[1]\n",
        "LSTMcell1=  model.layers[22]\n",
        "LSTMcell2=  model.layers[24]\n",
        "LSTMcell3=  model.layers[93]\n",
        "dense1= model.layers[108]\n",
        "dense2=  model.layers[109]\n",
        "   \n",
        "  \n",
        "def prediction_model(max_len=33):\n",
        "    \n",
        "    img_input= Input((4096,))\n",
        "    img_output= batch_normalize(img_input)\n",
        "    img_output= dense_image1(img_output)\n",
        "    c= Input((512,))\n",
        "    c1=c\n",
        "    h1=c\n",
        "    outputs=[]\n",
        "    x0= Input((33,))\n",
        "    seq_input=x0\n",
        "    c2=c\n",
        "    c3=c\n",
        "    c4=c\n",
        "\n",
        "    h2= img_output\n",
        "    h3= img_output\n",
        "    h4= img_output\n",
        "    seq_input= embedding(seq_input)\n",
        "\n",
        "    for t in range(0,max_len):\n",
        "      x= Lambda(lambda x: x[:,t,:])(seq_input)\n",
        "      x=reshapor1(x)\n",
        "      output,h2,c2 = LSTMcell1(x,initial_state=[h2,c2])\n",
        "      output= reshapor2(output)\n",
        "      output,h3,c3 = LSTMcell2(output,initial_state=[h3,c3])\n",
        "      output= reshapor2(output)\n",
        "      out,h4,c4 = LSTMcell3(output,initial_state=[h4,c4])\n",
        "      out= dense1(out)\n",
        "      out= dense2(out)\n",
        "      outputs.append(out)\n",
        "      \n",
        "    model= Model(inputs=[img_input,x0,c],outputs=outputs)\n",
        "    model.compile(loss='categorical_crossentropy', optimizer='rmsprop')\n",
        "    return model\n",
        "    \n",
        "    \n",
        "    \n",
        "eval_model= prediction_model(max_len)"
      ],
      "execution_count": 0,
      "outputs": []
    },
    {
      "metadata": {
        "id": "kq4jYOoD_uXL",
        "colab_type": "code",
        "colab": {}
      },
      "cell_type": "code",
      "source": [
        "index_word= dict(map(reversed, tokenizer.word_index.items()))\n",
        "def beam_search_predict_captions(model,img,tokenizer,max_len=33,beam_width=3):\n",
        "    start= 'startseq'\n",
        "    count_tokens=0\n",
        "    token_input= np.zeros((1,33))\n",
        "    z= np.zeros((1,512))\n",
        "    token_input[0,count_tokens]= 1\n",
        "    beam_outputs=[[token_input,-10.0]]\n",
        "    while count_tokens<max_len-1 : \n",
        "      tmp=[]\n",
        "      for i in beam_outputs:\n",
        "        x,score = i\n",
        "        outputs = model.predict([np.array(img),np.array(x),z])\n",
        "        out = np.array(outputs[count_tokens][0].ravel())\n",
        "        top_beam = np.argsort(out)[-beam_width:]\n",
        "        for p in top_beam:\n",
        "          x1=np.copy(x)\n",
        "          x1[0,count_tokens+1]= p\n",
        "          new_score= ((count_tokens*score+ np.log(out[p])))/(count_tokens+1)\n",
        "          tmp.append([x1,new_score])\n",
        "      beam_outputs=tmp\n",
        "      beam_outputs=sorted(beam_outputs,key= lambda x : x[1],reverse=True)\n",
        "      beam_outputs = beam_outputs[0:beam_width]\n",
        "      count_tokens = count_tokens+1\n",
        "    beam_outputs=sorted(beam_outputs,key= lambda x : x[1],reverse=True)\n",
        "    ans= beam_outputs[0][0].ravel()\n",
        "    sentence=[]\n",
        "#     print(ans)\n",
        "    for out in ans:\n",
        "        string= index_word[out]\n",
        "        sentence+= [string]\n",
        "        if string=='endseq':\n",
        "            break\n",
        "    return sentence\n"
      ],
      "execution_count": 0,
      "outputs": []
    },
    {
      "metadata": {
        "id": "eNSz2g_XHh5l",
        "colab_type": "code",
        "colab": {
          "base_uri": "https://localhost:8080/",
          "height": 87
        },
        "outputId": "cdf083fe-d39e-41ef-f727-ff8ae12b49b7"
      },
      "cell_type": "code",
      "source": [
        "def evaluate_model(model ,descriptions, features, tokenizer,beam_width):\n",
        "    actual, predicted = list(), list()\n",
        "    samples = len(descriptions.items())\n",
        "    for key, desc_list in descriptions.items():\n",
        "        prediction = beam_search_predict_captions(model,features[key],tokenizer,beam_width=beam_width)\n",
        "        references = [d.split() for d in desc_list]\n",
        "        actual.append(references)\n",
        "        predicted.append(prediction)\n",
        "    print('BLEU-1: %f' % corpus_bleu(actual, predicted, weights=(1.0, 0, 0, 0)))\n",
        "    print('BLEU-2: %f' % corpus_bleu(actual, predicted, weights=(0.5, 0.5, 0, 0)))\n",
        "    print('BLEU-3: %f' % corpus_bleu(actual, predicted, weights=(0.3, 0.3, 0.3, 0)))\n",
        "    print('BLEU-4: %f' % corpus_bleu(actual, predicted, weights=(0.25, 0.25, 0.25, 0.25)))\n",
        "\n",
        "evaluate_model(eval_model, val_desc, val_img, tokenizer,3 )"
      ],
      "execution_count": 24,
      "outputs": [
        {
          "output_type": "stream",
          "text": [
            "BLEU-1: 0.606303\n",
            "BLEU-2: 0.379619\n",
            "BLEU-3: 0.285891\n",
            "BLEU-4: 0.159622\n"
          ],
          "name": "stdout"
        }
      ]
    },
    {
      "metadata": {
        "id": "NTmtvgYdF_YC",
        "colab_type": "code",
        "colab": {
          "base_uri": "https://localhost:8080/",
          "height": 241
        },
        "outputId": "d333ed48-5f46-4719-f866-01b4dbadcab4"
      },
      "cell_type": "code",
      "source": [
        "from PIL import Image\n",
        "Image.open('download (6).jpg')"
      ],
      "execution_count": 29,
      "outputs": [
        {
          "output_type": "execute_result",
          "data": {
            "image/png": "[encoded data removed]",
            "text/plain": [
              "<PIL.JpegImagePlugin.JpegImageFile image mode=RGB size=224x224 at 0x7F096DE5E400>"
            ]
          },
          "metadata": {
            "tags": []
          },
          "execution_count": 29
        }
      ]
    },
    {
      "metadata": {
        "id": "gok6aFdOTbAO",
        "colab_type": "code",
        "colab": {}
      },
      "cell_type": "code",
      "source": [
        "def extract_features(filename):\n",
        "\tmodel = VGG16()\n",
        "\tmodel.layers.pop()\n",
        "\tmodel = Model(inputs=model.inputs, outputs=model.layers[-1].output)\n",
        "\timage = load_img(filename, target_size=(224, 224))\n",
        "\timage = img_to_array(image)\n",
        "\timage = image.reshape((1, image.shape[0], image.shape[1], image.shape[2]))\n",
        "\timage = preprocess_input(image)\n",
        "\tfeature = model.predict(image, verbose=0)\n",
        "\treturn feature\n",
        "\n"
      ],
      "execution_count": 0,
      "outputs": []
    },
    {
      "metadata": {
        "id": "TVEEWCqXGUbY",
        "colab_type": "code",
        "colab": {
          "base_uri": "https://localhost:8080/",
          "height": 34
        },
        "outputId": "6f50b943-6ef8-4b44-98f8-abb3d4ede4e3"
      },
      "cell_type": "code",
      "source": [
        "photo = extract_features('download (6).jpg')\n",
        "print(photo.shape)\n"
      ],
      "execution_count": 59,
      "outputs": [
        {
          "output_type": "stream",
          "text": [
            "(1, 4096)\n"
          ],
          "name": "stdout"
        }
      ]
    },
    {
      "metadata": {
        "id": "AjmALdjLF7eW",
        "colab_type": "code",
        "colab": {
          "base_uri": "https://localhost:8080/",
          "height": 34
        },
        "outputId": "dcf0e466-b83f-4cbe-dbd3-8e44eb8c062d"
      },
      "cell_type": "code",
      "source": [
        "desc=beam_search_predict_captions(eval_model,photo,tokenizer,beam_width=9)\n",
        "# desc=generate_desc(model, tokenizer, photo, max_len)\n",
        "print(desc)"
      ],
      "execution_count": 60,
      "outputs": [
        {
          "output_type": "stream",
          "text": [
            "['startseq', 'brown', 'and', 'white', 'dog', 'is', 'playing', 'in', 'the', 'grass', 'endseq']\n"
          ],
          "name": "stdout"
        }
      ]
    },
    {
      "metadata": {
        "id": "JK16XKmvtWkD",
        "colab_type": "code",
        "colab": {
          "base_uri": "https://localhost:8080/",
          "height": 158
        },
        "outputId": "ec8a80cc-558c-43d2-f2eb-5f10b5d51b33"
      },
      "cell_type": "code",
      "source": [
        "for i in range(1,9,2):\n",
        "    print(i)\n",
        "    desc=beam_search_predict_captions(eval_model,photo,tokenizer,beam_width=i)\n",
        "# desc=generate_desc(model, tokenizer, photo, max_len)\n",
        "    print(desc) "
      ],
      "execution_count": 61,
      "outputs": [
        {
          "output_type": "stream",
          "text": [
            "1\n",
            "['startseq', 'two', 'dogs', 'are', 'playing', 'with', 'each', 'other', 'in', 'the', 'woods', 'endseq']\n",
            "3\n",
            "['startseq', 'brown', 'and', 'white', 'dog', 'is', 'running', 'through', 'the', 'grass', 'endseq']\n",
            "5\n",
            "['startseq', 'brown', 'and', 'white', 'dog', 'is', 'playing', 'in', 'the', 'grass', 'endseq']\n",
            "7\n",
            "['startseq', 'brown', 'and', 'white', 'dog', 'is', 'playing', 'in', 'the', 'grass', 'endseq']\n"
          ],
          "name": "stdout"
        }
      ]
    }
  ]
}